{
  "cells": [
    {
      "cell_type": "markdown",
      "metadata": {
        "id": "0bkqQwtXFvCk"
      },
      "source": [
        "# TASK-1"
      ]
    },
    {
      "cell_type": "markdown",
      "metadata": {
        "id": "yf2pFV-GF1Fs"
      },
      "source": [
        "**Create two list and join those two list**"
      ]
    },
    {
      "cell_type": "code",
      "execution_count": 30,
      "metadata": {
        "colab": {
          "base_uri": "https://localhost:8080/"
        },
        "id": "L08RkxSMF0td",
        "outputId": "818b9de4-2679-44ae-9e00-e1de391cc4bc"
      },
      "outputs": [
        {
          "name": "stdout",
          "output_type": "stream",
          "text": [
            "LIST :  [1, 2, 3, 4, 5, 6, 7, 8, 9, 10]\n"
          ]
        }
      ],
      "source": [
        "a=[1,2,3,4,5]\n",
        "b=[6,7,8,9,10]\n",
        "c=a+b\n",
        "print(\"LIST : \",c)"
      ]
    },
    {
      "cell_type": "markdown",
      "metadata": {
        "id": "Nl1LgwN4GRj3"
      },
      "source": [
        "# TASK-2"
      ]
    },
    {
      "cell_type": "markdown",
      "metadata": {
        "id": "L2A_bC2UGUMX"
      },
      "source": [
        "**With If statement find the even numbers**"
      ]
    },
    {
      "cell_type": "code",
      "execution_count": 28,
      "metadata": {
        "colab": {
          "base_uri": "https://localhost:8080/"
        },
        "id": "qeHH_H8xG-KX",
        "outputId": "dad67a45-351f-4a2d-fe1d-366d3bd4804a"
      },
      "outputs": [
        {
          "name": "stdout",
          "output_type": "stream",
          "text": [
            "EVEN NUMBERS :  [2, 4, 6, 8, 10]\n"
          ]
        }
      ],
      "source": [
        "a=[i for i in (c) if i%2==0]\n",
        "print(\"EVEN NUMBERS : \",a)"
      ]
    },
    {
      "cell_type": "markdown",
      "metadata": {
        "id": "vKgU2IR3H9GE"
      },
      "source": [
        "#TASK-3"
      ]
    },
    {
      "cell_type": "markdown",
      "metadata": {
        "id": "6K37eAUgIEA8"
      },
      "source": [
        "**Create a dictionary with 3 keys and 2 values for each key**"
      ]
    },
    {
      "cell_type": "code",
      "execution_count": 24,
      "metadata": {
        "colab": {
          "base_uri": "https://localhost:8080/"
        },
        "id": "I8L-hRKhHS1I",
        "outputId": "1e3125d9-02e8-4055-96e6-7cc2c9cc9248"
      },
      "outputs": [
        {
          "name": "stdout",
          "output_type": "stream",
          "text": [
            "{'country': ['India', 'Russia'], 'Languages': ['Tamil', 'Hindi'], 'City': ['Chennai', 'Bangalore']}\n",
            "KEYS :  dict_keys(['country', 'Languages', 'City'])\n",
            "VALUES :  dict_values([['India', 'Russia'], ['Tamil', 'Hindi'], ['Chennai', 'Bangalore']])\n"
          ]
        }
      ],
      "source": [
        "dictionary={\"country\":[\"India\",\"Russia\"],\n",
        "            \"Languages\":[\"Tamil\",\"Hindi\"],\n",
        "            \"City\":[\"Chennai\",\"Bangalore\"]}\n",
        "print(dictionary)\n",
        "print(\"KEYS : \",dictionary.keys())\n",
        "print(\"VALUES : \",dictionary.values())"
      ]
    },
    {
      "cell_type": "markdown",
      "metadata": {
        "id": "zZL7QARLJ0sz"
      },
      "source": [
        "# TASK-4"
      ]
    },
    {
      "cell_type": "markdown",
      "metadata": {
        "id": "y7MA8pPeJ3Tv"
      },
      "source": [
        "**Create a function with If statement which is used to find the odd numbers**"
      ]
    },
    {
      "cell_type": "code",
      "execution_count": 29,
      "metadata": {
        "colab": {
          "base_uri": "https://localhost:8080/"
        },
        "id": "w_quEag2JJ4S",
        "outputId": "e5f8d33e-4f11-41df-86c6-c35b38a722e7"
      },
      "outputs": [
        {
          "name": "stdout",
          "output_type": "stream",
          "text": [
            "ODD NUMBERS :  [1, 3, 5, 7, 9]\n"
          ]
        }
      ],
      "source": [
        "def odd(num):\n",
        "  odd_num=[i for i in c if i%2==1]\n",
        "  print(\"ODD NUMBERS : \",odd_num)\n",
        "\n",
        "odd(c)\n"
      ]
    },
    {
      "cell_type": "markdown",
      "metadata": {
        "id": "17J-BF-FKYwq"
      },
      "source": [
        "#TASK-5"
      ]
    },
    {
      "cell_type": "markdown",
      "metadata": {
        "id": "gbsN5hpcKauZ"
      },
      "source": [
        "**Write a Python function to sum all the numbers in a list.**\n"
      ]
    },
    {
      "cell_type": "code",
      "execution_count": 21,
      "metadata": {
        "colab": {
          "base_uri": "https://localhost:8080/"
        },
        "id": "E-GHY7-tKKM7",
        "outputId": "d66cd708-21f9-4e8f-bf1f-60c83f2f996d"
      },
      "outputs": [
        {
          "name": "stdout",
          "output_type": "stream",
          "text": [
            "Using In-Built Function :  20\n",
            "Traditional Method :  20\n"
          ]
        }
      ],
      "source": [
        "def total(num):\n",
        "  print(\"Using In-Built Function : \",sum(num))\n",
        "\n",
        "def total1(num):\n",
        "  sum=0\n",
        "  for i in num:\n",
        "    sum+=i\n",
        "  print(\"Traditional Method : \",sum)\n",
        "\n",
        "sample_list = [8, 2, 3, 0, 7]\n",
        "\n",
        "total(sample_list)\n",
        "total1(sample_list)\n",
        "\n"
      ]
    },
    {
      "cell_type": "code",
      "execution_count": null,
      "metadata": {
        "id": "2LFS7TatLBlG"
      },
      "outputs": [],
      "source": []
    }
  ],
  "metadata": {
    "colab": {
      "provenance": [],
      "toc_visible": true
    },
    "kernelspec": {
      "display_name": "Python 3",
      "name": "python3"
    },
    "language_info": {
      "name": "python"
    }
  },
  "nbformat": 4,
  "nbformat_minor": 0
}
