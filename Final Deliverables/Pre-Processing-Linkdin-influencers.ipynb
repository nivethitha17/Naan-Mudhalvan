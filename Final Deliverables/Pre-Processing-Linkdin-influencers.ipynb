{
  "nbformat": 4,
  "nbformat_minor": 0,
  "metadata": {
    "colab": {
      "provenance": [],
      "toc_visible": true
    },
    "kernelspec": {
      "name": "python3",
      "display_name": "Python 3"
    },
    "language_info": {
      "name": "python"
    }
  },
  "cells": [
    {
      "cell_type": "code",
      "execution_count": null,
      "metadata": {
        "id": "oqHNgBZpOlJt"
      },
      "outputs": [],
      "source": [
        "import os\n",
        "os.environ['KAGGLE_CONFIG_DIR']='/content'"
      ]
    },
    {
      "cell_type": "code",
      "source": [
        "!kaggle datasets download -d shreyasajal/linkedin-influencers-data"
      ],
      "metadata": {
        "colab": {
          "base_uri": "https://localhost:8080/"
        },
        "id": "8wGKivnMPbI1",
        "outputId": "af2376a9-c756-4ecf-e0dc-d558c285997e"
      },
      "execution_count": null,
      "outputs": [
        {
          "output_type": "stream",
          "name": "stdout",
          "text": [
            "Warning: Your Kaggle API key is readable by other users on this system! To fix this, you can run 'chmod 600 /content/kaggle.json'\n",
            "Downloading linkedin-influencers-data.zip to /content\n",
            " 84% 7.00M/8.33M [00:00<00:00, 72.0MB/s]\n",
            "100% 8.33M/8.33M [00:00<00:00, 82.4MB/s]\n"
          ]
        }
      ]
    },
    {
      "cell_type": "markdown",
      "source": [
        "#LOADING THE LIBRARIES\n"
      ],
      "metadata": {
        "id": "k6PkYfN68hAC"
      }
    },
    {
      "cell_type": "code",
      "source": [
        "import numpy as np\n",
        "import pandas as pd\n",
        "import matplotlib.pyplot as plt"
      ],
      "metadata": {
        "id": "uzJxHJx6Pn_M"
      },
      "execution_count": null,
      "outputs": []
    },
    {
      "cell_type": "code",
      "source": [
        "!unzip linkedin-influencers-data.zip"
      ],
      "metadata": {
        "colab": {
          "base_uri": "https://localhost:8080/"
        },
        "id": "jVtUfUj1T2mY",
        "outputId": "e5697cdf-7615-407a-ea5b-99ae48c9a499"
      },
      "execution_count": null,
      "outputs": [
        {
          "output_type": "stream",
          "name": "stdout",
          "text": [
            "Archive:  linkedin-influencers-data.zip\n",
            "  inflating: influencers_data.csv    \n"
          ]
        }
      ]
    },
    {
      "cell_type": "markdown",
      "source": [
        "# LOAD THE DATASET"
      ],
      "metadata": {
        "id": "9US4foau8k-n"
      }
    },
    {
      "cell_type": "code",
      "source": [
        "df=pd.read_csv(\"/content/influencers_data.csv\")"
      ],
      "metadata": {
        "id": "7HNj2jfVPfXF",
        "colab": {
          "base_uri": "https://localhost:8080/"
        },
        "outputId": "3c4ef422-2914-49ca-c33f-74e71246228b"
      },
      "execution_count": null,
      "outputs": [
        {
          "output_type": "stream",
          "name": "stderr",
          "text": [
            "<ipython-input-24-af15066030fc>:1: DtypeWarning: Columns (18) have mixed types. Specify dtype option on import or set low_memory=False.\n",
            "  df=pd.read_csv(\"/content/influencers_data.csv\")\n"
          ]
        }
      ]
    },
    {
      "cell_type": "code",
      "source": [
        "df.head()"
      ],
      "metadata": {
        "colab": {
          "base_uri": "https://localhost:8080/",
          "height": 764
        },
        "id": "dDug9gcnPl69",
        "outputId": "aac9ffa3-7147-450b-fdd1-61ed8a77df84"
      },
      "execution_count": null,
      "outputs": [
        {
          "output_type": "execute_result",
          "data": {
            "text/plain": [
              "   Unnamed: 0            name        headline location  followers connections  \\\n",
              "0           0  Nicholas Wyman  CEO IWSI Group      NaN     6484.0        500+   \n",
              "1           1  Nicholas Wyman  CEO IWSI Group      NaN     6484.0        500+   \n",
              "2           2  Nicholas Wyman  CEO IWSI Group      NaN     6484.0        500+   \n",
              "3           3  Nicholas Wyman  CEO IWSI Group      NaN     6484.0        500+   \n",
              "4           4  Nicholas Wyman  CEO IWSI Group      NaN     6484.0        500+   \n",
              "\n",
              "                                               about    time_spent  \\\n",
              "0  Nicholas Wyman for the past 25 years has shone...     1 day ago   \n",
              "1  Nicholas Wyman for the past 25 years has shone...    1 week ago   \n",
              "2  Nicholas Wyman for the past 25 years has shone...  2 months ago   \n",
              "3  Nicholas Wyman for the past 25 years has shone...  2 months ago   \n",
              "4  Nicholas Wyman for the past 25 years has shone...  2 months ago   \n",
              "\n",
              "                                             content  \\\n",
              "0  Robert Lerman  writes that achieving a healthy...   \n",
              "1  National disability advocate  Sara Hart Weir, ...   \n",
              "2                                                NaN   \n",
              "3  Exploring in this months Talent Management & H...   \n",
              "4  I count myself fortunate to have spent time wi...   \n",
              "\n",
              "                                       content_links media_type  \\\n",
              "0  [['https://www.linkedin.com/in/ACoAAACy1HkBviR...    article   \n",
              "1  [['https://www.linkedin.com/in/ACoAAAHsfJgBb7_...        NaN   \n",
              "2                                                 []        NaN   \n",
              "3  [['https://www.linkedin.com/in/ACoAAAADlGIBLfn...    article   \n",
              "4  [['https://www.linkedin.com/in/ACoAABhNxDUB9IX...    article   \n",
              "\n",
              "                                           media_url  num_hashtags  \\\n",
              "0  ['https://www.urban.org/urban-wire/its-time-mo...             4   \n",
              "1                                                 []             0   \n",
              "2                                                 []             0   \n",
              "3  ['https://www.tlnt.com/apprenticeships-that-br...             4   \n",
              "4  ['https://gritdaily.com/the-legacy-of-verified...             3   \n",
              "\n",
              "   hashtag_followers                                           hashtags  \\\n",
              "0                  0  [['#workbasedlearning', 'https://www.linkedin....   \n",
              "1                  0                                                 []   \n",
              "2                  0                                                 []   \n",
              "3                  0  [['#careerplanning', 'https://www.linkedin.com...   \n",
              "4                  0  [['#verifiedresumes', 'https://www.linkedin.co...   \n",
              "\n",
              "   reactions  comments  views votes  \n",
              "0         12         1    NaN   NaN  \n",
              "1         11         0    NaN   NaN  \n",
              "2         15         0    NaN   NaN  \n",
              "3         44         0    NaN   NaN  \n",
              "4         22         2    NaN   NaN  "
            ],
            "text/html": [
              "\n",
              "  <div id=\"df-4e932c96-7942-40dc-bd38-f55fc10a2977\" class=\"colab-df-container\">\n",
              "    <div>\n",
              "<style scoped>\n",
              "    .dataframe tbody tr th:only-of-type {\n",
              "        vertical-align: middle;\n",
              "    }\n",
              "\n",
              "    .dataframe tbody tr th {\n",
              "        vertical-align: top;\n",
              "    }\n",
              "\n",
              "    .dataframe thead th {\n",
              "        text-align: right;\n",
              "    }\n",
              "</style>\n",
              "<table border=\"1\" class=\"dataframe\">\n",
              "  <thead>\n",
              "    <tr style=\"text-align: right;\">\n",
              "      <th></th>\n",
              "      <th>Unnamed: 0</th>\n",
              "      <th>name</th>\n",
              "      <th>headline</th>\n",
              "      <th>location</th>\n",
              "      <th>followers</th>\n",
              "      <th>connections</th>\n",
              "      <th>about</th>\n",
              "      <th>time_spent</th>\n",
              "      <th>content</th>\n",
              "      <th>content_links</th>\n",
              "      <th>media_type</th>\n",
              "      <th>media_url</th>\n",
              "      <th>num_hashtags</th>\n",
              "      <th>hashtag_followers</th>\n",
              "      <th>hashtags</th>\n",
              "      <th>reactions</th>\n",
              "      <th>comments</th>\n",
              "      <th>views</th>\n",
              "      <th>votes</th>\n",
              "    </tr>\n",
              "  </thead>\n",
              "  <tbody>\n",
              "    <tr>\n",
              "      <th>0</th>\n",
              "      <td>0</td>\n",
              "      <td>Nicholas Wyman</td>\n",
              "      <td>CEO IWSI Group</td>\n",
              "      <td>NaN</td>\n",
              "      <td>6484.0</td>\n",
              "      <td>500+</td>\n",
              "      <td>Nicholas Wyman for the past 25 years has shone...</td>\n",
              "      <td>1 day ago</td>\n",
              "      <td>Robert Lerman  writes that achieving a healthy...</td>\n",
              "      <td>[['https://www.linkedin.com/in/ACoAAACy1HkBviR...</td>\n",
              "      <td>article</td>\n",
              "      <td>['https://www.urban.org/urban-wire/its-time-mo...</td>\n",
              "      <td>4</td>\n",
              "      <td>0</td>\n",
              "      <td>[['#workbasedlearning', 'https://www.linkedin....</td>\n",
              "      <td>12</td>\n",
              "      <td>1</td>\n",
              "      <td>NaN</td>\n",
              "      <td>NaN</td>\n",
              "    </tr>\n",
              "    <tr>\n",
              "      <th>1</th>\n",
              "      <td>1</td>\n",
              "      <td>Nicholas Wyman</td>\n",
              "      <td>CEO IWSI Group</td>\n",
              "      <td>NaN</td>\n",
              "      <td>6484.0</td>\n",
              "      <td>500+</td>\n",
              "      <td>Nicholas Wyman for the past 25 years has shone...</td>\n",
              "      <td>1 week ago</td>\n",
              "      <td>National disability advocate  Sara Hart Weir, ...</td>\n",
              "      <td>[['https://www.linkedin.com/in/ACoAAAHsfJgBb7_...</td>\n",
              "      <td>NaN</td>\n",
              "      <td>[]</td>\n",
              "      <td>0</td>\n",
              "      <td>0</td>\n",
              "      <td>[]</td>\n",
              "      <td>11</td>\n",
              "      <td>0</td>\n",
              "      <td>NaN</td>\n",
              "      <td>NaN</td>\n",
              "    </tr>\n",
              "    <tr>\n",
              "      <th>2</th>\n",
              "      <td>2</td>\n",
              "      <td>Nicholas Wyman</td>\n",
              "      <td>CEO IWSI Group</td>\n",
              "      <td>NaN</td>\n",
              "      <td>6484.0</td>\n",
              "      <td>500+</td>\n",
              "      <td>Nicholas Wyman for the past 25 years has shone...</td>\n",
              "      <td>2 months ago</td>\n",
              "      <td>NaN</td>\n",
              "      <td>[]</td>\n",
              "      <td>NaN</td>\n",
              "      <td>[]</td>\n",
              "      <td>0</td>\n",
              "      <td>0</td>\n",
              "      <td>[]</td>\n",
              "      <td>15</td>\n",
              "      <td>0</td>\n",
              "      <td>NaN</td>\n",
              "      <td>NaN</td>\n",
              "    </tr>\n",
              "    <tr>\n",
              "      <th>3</th>\n",
              "      <td>3</td>\n",
              "      <td>Nicholas Wyman</td>\n",
              "      <td>CEO IWSI Group</td>\n",
              "      <td>NaN</td>\n",
              "      <td>6484.0</td>\n",
              "      <td>500+</td>\n",
              "      <td>Nicholas Wyman for the past 25 years has shone...</td>\n",
              "      <td>2 months ago</td>\n",
              "      <td>Exploring in this months Talent Management &amp; H...</td>\n",
              "      <td>[['https://www.linkedin.com/in/ACoAAAADlGIBLfn...</td>\n",
              "      <td>article</td>\n",
              "      <td>['https://www.tlnt.com/apprenticeships-that-br...</td>\n",
              "      <td>4</td>\n",
              "      <td>0</td>\n",
              "      <td>[['#careerplanning', 'https://www.linkedin.com...</td>\n",
              "      <td>44</td>\n",
              "      <td>0</td>\n",
              "      <td>NaN</td>\n",
              "      <td>NaN</td>\n",
              "    </tr>\n",
              "    <tr>\n",
              "      <th>4</th>\n",
              "      <td>4</td>\n",
              "      <td>Nicholas Wyman</td>\n",
              "      <td>CEO IWSI Group</td>\n",
              "      <td>NaN</td>\n",
              "      <td>6484.0</td>\n",
              "      <td>500+</td>\n",
              "      <td>Nicholas Wyman for the past 25 years has shone...</td>\n",
              "      <td>2 months ago</td>\n",
              "      <td>I count myself fortunate to have spent time wi...</td>\n",
              "      <td>[['https://www.linkedin.com/in/ACoAABhNxDUB9IX...</td>\n",
              "      <td>article</td>\n",
              "      <td>['https://gritdaily.com/the-legacy-of-verified...</td>\n",
              "      <td>3</td>\n",
              "      <td>0</td>\n",
              "      <td>[['#verifiedresumes', 'https://www.linkedin.co...</td>\n",
              "      <td>22</td>\n",
              "      <td>2</td>\n",
              "      <td>NaN</td>\n",
              "      <td>NaN</td>\n",
              "    </tr>\n",
              "  </tbody>\n",
              "</table>\n",
              "</div>\n",
              "    <div class=\"colab-df-buttons\">\n",
              "\n",
              "  <div class=\"colab-df-container\">\n",
              "    <button class=\"colab-df-convert\" onclick=\"convertToInteractive('df-4e932c96-7942-40dc-bd38-f55fc10a2977')\"\n",
              "            title=\"Convert this dataframe to an interactive table.\"\n",
              "            style=\"display:none;\">\n",
              "\n",
              "  <svg xmlns=\"http://www.w3.org/2000/svg\" height=\"24px\" viewBox=\"0 -960 960 960\">\n",
              "    <path d=\"M120-120v-720h720v720H120Zm60-500h600v-160H180v160Zm220 220h160v-160H400v160Zm0 220h160v-160H400v160ZM180-400h160v-160H180v160Zm440 0h160v-160H620v160ZM180-180h160v-160H180v160Zm440 0h160v-160H620v160Z\"/>\n",
              "  </svg>\n",
              "    </button>\n",
              "\n",
              "  <style>\n",
              "    .colab-df-container {\n",
              "      display:flex;\n",
              "      gap: 12px;\n",
              "    }\n",
              "\n",
              "    .colab-df-convert {\n",
              "      background-color: #E8F0FE;\n",
              "      border: none;\n",
              "      border-radius: 50%;\n",
              "      cursor: pointer;\n",
              "      display: none;\n",
              "      fill: #1967D2;\n",
              "      height: 32px;\n",
              "      padding: 0 0 0 0;\n",
              "      width: 32px;\n",
              "    }\n",
              "\n",
              "    .colab-df-convert:hover {\n",
              "      background-color: #E2EBFA;\n",
              "      box-shadow: 0px 1px 2px rgba(60, 64, 67, 0.3), 0px 1px 3px 1px rgba(60, 64, 67, 0.15);\n",
              "      fill: #174EA6;\n",
              "    }\n",
              "\n",
              "    .colab-df-buttons div {\n",
              "      margin-bottom: 4px;\n",
              "    }\n",
              "\n",
              "    [theme=dark] .colab-df-convert {\n",
              "      background-color: #3B4455;\n",
              "      fill: #D2E3FC;\n",
              "    }\n",
              "\n",
              "    [theme=dark] .colab-df-convert:hover {\n",
              "      background-color: #434B5C;\n",
              "      box-shadow: 0px 1px 3px 1px rgba(0, 0, 0, 0.15);\n",
              "      filter: drop-shadow(0px 1px 2px rgba(0, 0, 0, 0.3));\n",
              "      fill: #FFFFFF;\n",
              "    }\n",
              "  </style>\n",
              "\n",
              "    <script>\n",
              "      const buttonEl =\n",
              "        document.querySelector('#df-4e932c96-7942-40dc-bd38-f55fc10a2977 button.colab-df-convert');\n",
              "      buttonEl.style.display =\n",
              "        google.colab.kernel.accessAllowed ? 'block' : 'none';\n",
              "\n",
              "      async function convertToInteractive(key) {\n",
              "        const element = document.querySelector('#df-4e932c96-7942-40dc-bd38-f55fc10a2977');\n",
              "        const dataTable =\n",
              "          await google.colab.kernel.invokeFunction('convertToInteractive',\n",
              "                                                    [key], {});\n",
              "        if (!dataTable) return;\n",
              "\n",
              "        const docLinkHtml = 'Like what you see? Visit the ' +\n",
              "          '<a target=\"_blank\" href=https://colab.research.google.com/notebooks/data_table.ipynb>data table notebook</a>'\n",
              "          + ' to learn more about interactive tables.';\n",
              "        element.innerHTML = '';\n",
              "        dataTable['output_type'] = 'display_data';\n",
              "        await google.colab.output.renderOutput(dataTable, element);\n",
              "        const docLink = document.createElement('div');\n",
              "        docLink.innerHTML = docLinkHtml;\n",
              "        element.appendChild(docLink);\n",
              "      }\n",
              "    </script>\n",
              "  </div>\n",
              "\n",
              "\n",
              "<div id=\"df-a7089b9a-3d9e-4b09-8136-a0eb8383881c\">\n",
              "  <button class=\"colab-df-quickchart\" onclick=\"quickchart('df-a7089b9a-3d9e-4b09-8136-a0eb8383881c')\"\n",
              "            title=\"Suggest charts.\"\n",
              "            style=\"display:none;\">\n",
              "\n",
              "<svg xmlns=\"http://www.w3.org/2000/svg\" height=\"24px\"viewBox=\"0 0 24 24\"\n",
              "     width=\"24px\">\n",
              "    <g>\n",
              "        <path d=\"M19 3H5c-1.1 0-2 .9-2 2v14c0 1.1.9 2 2 2h14c1.1 0 2-.9 2-2V5c0-1.1-.9-2-2-2zM9 17H7v-7h2v7zm4 0h-2V7h2v10zm4 0h-2v-4h2v4z\"/>\n",
              "    </g>\n",
              "</svg>\n",
              "  </button>\n",
              "\n",
              "<style>\n",
              "  .colab-df-quickchart {\n",
              "      --bg-color: #E8F0FE;\n",
              "      --fill-color: #1967D2;\n",
              "      --hover-bg-color: #E2EBFA;\n",
              "      --hover-fill-color: #174EA6;\n",
              "      --disabled-fill-color: #AAA;\n",
              "      --disabled-bg-color: #DDD;\n",
              "  }\n",
              "\n",
              "  [theme=dark] .colab-df-quickchart {\n",
              "      --bg-color: #3B4455;\n",
              "      --fill-color: #D2E3FC;\n",
              "      --hover-bg-color: #434B5C;\n",
              "      --hover-fill-color: #FFFFFF;\n",
              "      --disabled-bg-color: #3B4455;\n",
              "      --disabled-fill-color: #666;\n",
              "  }\n",
              "\n",
              "  .colab-df-quickchart {\n",
              "    background-color: var(--bg-color);\n",
              "    border: none;\n",
              "    border-radius: 50%;\n",
              "    cursor: pointer;\n",
              "    display: none;\n",
              "    fill: var(--fill-color);\n",
              "    height: 32px;\n",
              "    padding: 0;\n",
              "    width: 32px;\n",
              "  }\n",
              "\n",
              "  .colab-df-quickchart:hover {\n",
              "    background-color: var(--hover-bg-color);\n",
              "    box-shadow: 0 1px 2px rgba(60, 64, 67, 0.3), 0 1px 3px 1px rgba(60, 64, 67, 0.15);\n",
              "    fill: var(--button-hover-fill-color);\n",
              "  }\n",
              "\n",
              "  .colab-df-quickchart-complete:disabled,\n",
              "  .colab-df-quickchart-complete:disabled:hover {\n",
              "    background-color: var(--disabled-bg-color);\n",
              "    fill: var(--disabled-fill-color);\n",
              "    box-shadow: none;\n",
              "  }\n",
              "\n",
              "  .colab-df-spinner {\n",
              "    border: 2px solid var(--fill-color);\n",
              "    border-color: transparent;\n",
              "    border-bottom-color: var(--fill-color);\n",
              "    animation:\n",
              "      spin 1s steps(1) infinite;\n",
              "  }\n",
              "\n",
              "  @keyframes spin {\n",
              "    0% {\n",
              "      border-color: transparent;\n",
              "      border-bottom-color: var(--fill-color);\n",
              "      border-left-color: var(--fill-color);\n",
              "    }\n",
              "    20% {\n",
              "      border-color: transparent;\n",
              "      border-left-color: var(--fill-color);\n",
              "      border-top-color: var(--fill-color);\n",
              "    }\n",
              "    30% {\n",
              "      border-color: transparent;\n",
              "      border-left-color: var(--fill-color);\n",
              "      border-top-color: var(--fill-color);\n",
              "      border-right-color: var(--fill-color);\n",
              "    }\n",
              "    40% {\n",
              "      border-color: transparent;\n",
              "      border-right-color: var(--fill-color);\n",
              "      border-top-color: var(--fill-color);\n",
              "    }\n",
              "    60% {\n",
              "      border-color: transparent;\n",
              "      border-right-color: var(--fill-color);\n",
              "    }\n",
              "    80% {\n",
              "      border-color: transparent;\n",
              "      border-right-color: var(--fill-color);\n",
              "      border-bottom-color: var(--fill-color);\n",
              "    }\n",
              "    90% {\n",
              "      border-color: transparent;\n",
              "      border-bottom-color: var(--fill-color);\n",
              "    }\n",
              "  }\n",
              "</style>\n",
              "\n",
              "  <script>\n",
              "    async function quickchart(key) {\n",
              "      const quickchartButtonEl =\n",
              "        document.querySelector('#' + key + ' button');\n",
              "      quickchartButtonEl.disabled = true;  // To prevent multiple clicks.\n",
              "      quickchartButtonEl.classList.add('colab-df-spinner');\n",
              "      try {\n",
              "        const charts = await google.colab.kernel.invokeFunction(\n",
              "            'suggestCharts', [key], {});\n",
              "      } catch (error) {\n",
              "        console.error('Error during call to suggestCharts:', error);\n",
              "      }\n",
              "      quickchartButtonEl.classList.remove('colab-df-spinner');\n",
              "      quickchartButtonEl.classList.add('colab-df-quickchart-complete');\n",
              "    }\n",
              "    (() => {\n",
              "      let quickchartButtonEl =\n",
              "        document.querySelector('#df-a7089b9a-3d9e-4b09-8136-a0eb8383881c button');\n",
              "      quickchartButtonEl.style.display =\n",
              "        google.colab.kernel.accessAllowed ? 'block' : 'none';\n",
              "    })();\n",
              "  </script>\n",
              "</div>\n",
              "    </div>\n",
              "  </div>\n"
            ]
          },
          "metadata": {},
          "execution_count": 25
        }
      ]
    },
    {
      "cell_type": "markdown",
      "source": [
        "#PERFORMING EDA"
      ],
      "metadata": {
        "id": "nB62_ltC8oo3"
      }
    },
    {
      "cell_type": "code",
      "source": [
        "df.info()"
      ],
      "metadata": {
        "id": "HgyQfV7cPt5L",
        "colab": {
          "base_uri": "https://localhost:8080/"
        },
        "outputId": "301fdb52-2b54-4ff0-f7ef-fbbc7fb8c2cb"
      },
      "execution_count": null,
      "outputs": [
        {
          "output_type": "stream",
          "name": "stdout",
          "text": [
            "<class 'pandas.core.frame.DataFrame'>\n",
            "RangeIndex: 34012 entries, 0 to 34011\n",
            "Data columns (total 19 columns):\n",
            " #   Column             Non-Null Count  Dtype  \n",
            "---  ------             --------------  -----  \n",
            " 0   Unnamed: 0         34012 non-null  int64  \n",
            " 1   name               34012 non-null  object \n",
            " 2   headline           34012 non-null  object \n",
            " 3   location           31740 non-null  object \n",
            " 4   followers          33970 non-null  float64\n",
            " 5   connections        25713 non-null  object \n",
            " 6   about              34012 non-null  object \n",
            " 7   time_spent         34011 non-null  object \n",
            " 8   content            31996 non-null  object \n",
            " 9   content_links      34012 non-null  object \n",
            " 10  media_type         26779 non-null  object \n",
            " 11  media_url          34012 non-null  object \n",
            " 12  num_hashtags       34012 non-null  int64  \n",
            " 13  hashtag_followers  34012 non-null  int64  \n",
            " 14  hashtags           34012 non-null  object \n",
            " 15  reactions          34012 non-null  int64  \n",
            " 16  comments           34012 non-null  int64  \n",
            " 17  views              0 non-null      float64\n",
            " 18  votes              86 non-null     object \n",
            "dtypes: float64(2), int64(5), object(12)\n",
            "memory usage: 4.9+ MB\n"
          ]
        }
      ]
    },
    {
      "cell_type": "markdown",
      "source": [
        "## CHECKING FOR NULL VALUES"
      ],
      "metadata": {
        "id": "3jm1y-yR8rbv"
      }
    },
    {
      "cell_type": "code",
      "source": [
        "df.isna().sum()"
      ],
      "metadata": {
        "colab": {
          "base_uri": "https://localhost:8080/"
        },
        "id": "ccjJmyQsUF6i",
        "outputId": "37f4b3ed-85a2-458e-9b12-545d0e2c2d8c"
      },
      "execution_count": null,
      "outputs": [
        {
          "output_type": "execute_result",
          "data": {
            "text/plain": [
              "Unnamed: 0               0\n",
              "name                     0\n",
              "headline                 0\n",
              "location              2272\n",
              "followers               42\n",
              "connections           8299\n",
              "about                    0\n",
              "time_spent               1\n",
              "content               2016\n",
              "content_links            0\n",
              "media_type            7233\n",
              "media_url                0\n",
              "num_hashtags             0\n",
              "hashtag_followers        0\n",
              "hashtags                 0\n",
              "reactions                0\n",
              "comments                 0\n",
              "views                34012\n",
              "votes                33926\n",
              "dtype: int64"
            ]
          },
          "metadata": {},
          "execution_count": 27
        }
      ]
    },
    {
      "cell_type": "code",
      "source": [
        "#FILLING NULL VALUES WITH MODE AND MEAN\n",
        "df[\"media_type\"]=df[\"media_type\"].fillna(df[\"media_type\"].mode()[0])\n",
        "df[\"location\"]=df[\"location\"].fillna(df[\"location\"].mode()[0])\n",
        "df[\"connections\"]=df[\"connections\"].fillna(df[\"connections\"].mode()[0])\n",
        "df[\"content\"]=df[\"content\"].fillna(df[\"content\"].mode()[0])\n",
        "df[\"followers\"]=df[\"followers\"].fillna(df[\"followers\"].mean())\n",
        "df[\"time_spent\"]=df[\"time_spent\"].fillna(df[\"time_spent\"].mode()[0])"
      ],
      "metadata": {
        "id": "BXGY9yXyUZbW"
      },
      "execution_count": null,
      "outputs": []
    },
    {
      "cell_type": "code",
      "source": [
        "#DROPPING THE COLUMNS BECAUSE THE VALUES PRESENT IN THESE COLUMNS ARE CLOSE TO ZERO\n",
        "df=df.drop([\"views\",\"votes\"],axis=1)"
      ],
      "metadata": {
        "id": "w83biBuyXE17"
      },
      "execution_count": null,
      "outputs": []
    },
    {
      "cell_type": "code",
      "source": [
        "df.isna().sum()"
      ],
      "metadata": {
        "colab": {
          "base_uri": "https://localhost:8080/"
        },
        "id": "v6mF2dpiUj4h",
        "outputId": "d7164ee3-91af-4ab0-d10b-884000f0c916"
      },
      "execution_count": null,
      "outputs": [
        {
          "output_type": "execute_result",
          "data": {
            "text/plain": [
              "Unnamed: 0           0\n",
              "name                 0\n",
              "headline             0\n",
              "location             0\n",
              "followers            0\n",
              "connections          0\n",
              "about                0\n",
              "time_spent           0\n",
              "content              0\n",
              "content_links        0\n",
              "media_type           0\n",
              "media_url            0\n",
              "num_hashtags         0\n",
              "hashtag_followers    0\n",
              "hashtags             0\n",
              "reactions            0\n",
              "comments             0\n",
              "dtype: int64"
            ]
          },
          "metadata": {},
          "execution_count": 34
        }
      ]
    },
    {
      "cell_type": "markdown",
      "source": [
        "# COVERTING TO CSV"
      ],
      "metadata": {
        "id": "ehuk3vBZ9Fso"
      }
    },
    {
      "cell_type": "code",
      "source": [
        "file='linkdin_influencers.csv'\n",
        "df.to_csv(file,index=False)"
      ],
      "metadata": {
        "id": "FWHEQirUUoQl"
      },
      "execution_count": null,
      "outputs": []
    },
    {
      "cell_type": "code",
      "source": [],
      "metadata": {
        "id": "EaWnMd_DWkhd"
      },
      "execution_count": null,
      "outputs": []
    }
  ]
}